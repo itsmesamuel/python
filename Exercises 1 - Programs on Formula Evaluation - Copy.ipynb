{
 "cells": [
  {
   "cell_type": "code",
   "execution_count": null,
   "id": "e3cfe4ff",
   "metadata": {},
   "outputs": [],
   "source": []
  },
  {
   "cell_type": "markdown",
   "id": "5fbe572a",
   "metadata": {},
   "source": [
    "# Programs on Formula Evaluation"
   ]
  },
  {
   "cell_type": "markdown",
   "id": "fe37fb41",
   "metadata": {},
   "source": [
    "## Exercise 1\n",
    "\n",
    "**Print the results of all arithmetic operations on two given numbers.**  \n",
    "\n",
    "**Sample I/O**  \n",
    "\n",
    "***Input1:***  \n",
    "10  \n",
    "3<br>***Output1:***  \n",
    "Sum of 10 and 3 is: 13  \n",
    "Difference between 10 and 3 is: 7  \n",
    "Product of 10 and 3 is: 30  \n",
    "Actual Quotient when 10 is divided by 3 is: 3.3333333  \n",
    "Floored Quotient when 10 is divided by 3 is: 3  \n",
    "Remainder when 10 is divided by 3 is: 1  \n",
    "10 to the power of 3 is: 1000  \n",
    "\n",
    "\n",
    "***Input2:***  \n",
    "15  \n",
    "4<br>***Output2:***  \n",
    "Sum of 15 and 4 is: 19  \n",
    "Difference between 15 and 4 is: 11  \n",
    "Product of 15 and 4 is: 60  \n",
    "Actual Quotient when 15 is divided by 4 is: 3.75  \n",
    "Floored Quotient when 15 is divided by 4 is: 3  \n",
    "Remainder when 15 is divided by 4 is: 3  \n",
    "15 to the power of 4 is: 50625   \n"
   ]
  },
  {
   "cell_type": "code",
   "execution_count": 19,
   "id": "bc119440",
   "metadata": {},
   "outputs": [
    {
     "name": "stdout",
     "output_type": "stream",
     "text": [
      "enter first number = 10\n",
      "enter second number = 3\n",
      "the sum of the number 10 and 3 is : 13\n",
      "the difference between 10 and 3 is: 7\n",
      "the product of 10 and 3 is : 30\n",
      "number 10 is divided by 3 is : 3.3333333333333335\n",
      "number 10 is divided by 3 is : 3\n",
      "remainder of 10 and 3 is : 1\n",
      "10 to the power 3 is :  1000\n"
     ]
    }
   ],
   "source": [
    "a = int(input(\"enter first number = \"))\n",
    "b = int(input(\"enter second number = \"))\n",
    "sum = a + b\n",
    "diff = a - b\n",
    "product = a * b\n",
    "differenc = a / b\n",
    "floore = a // b\n",
    "remainder = a % b\n",
    "power = a ** b\n",
    "print(\"the sum of the number\",a,\"and\",b,\"is :\",sum)\n",
    "print(\"the difference between\",a,\"and\",b,\"is:\",diff)\n",
    "print(\"the product of\",a,\"and\",b,\"is :\",product)\n",
    "print(\"number\",a,\"is divided by\",b,\"is :\",differenc)\n",
    "print(\"number\",a,\"is divided by\",b,\"is :\",floore)\n",
    "print(\"remainder of\",a,\"and\",b,\"is :\",remainder)\n",
    "print(a,\"to the power\",b,\"is : \",power)"
   ]
  },
  {
   "cell_type": "code",
   "execution_count": 15,
   "id": "b5923c70",
   "metadata": {},
   "outputs": [
    {
     "data": {
      "text/plain": [
       "1"
      ]
     },
     "execution_count": 15,
     "metadata": {},
     "output_type": "execute_result"
    }
   ],
   "source": [
    "3//2"
   ]
  },
  {
   "cell_type": "markdown",
   "id": "9f1654fb",
   "metadata": {},
   "source": [
    "# Exercise 2\n",
    "\n",
    "**Find out the *area* and *perimeter* of a  square.**  \n",
    "\n",
    "To find out *area* and *perimeter* of a square we need *side length* of that square  \n",
    "\n",
    "**Sample I/O**  \n",
    "\n",
    "***Input1:***  \n",
    "10  \n",
    "***Output1:***  \n",
    "Area of a square with side value 10 is 100  \n",
    "Perimeter of a square with side value 10 is 40  \n",
    "\n",
    "\n",
    "***Input2:***  \n",
    "7<br>***Output2:***  \n",
    "Area of a square with side value 7 is 49  \n",
    "Perimeter of a square with side value 7 is 28  \n"
   ]
  },
  {
   "cell_type": "code",
   "execution_count": 27,
   "id": "161579df",
   "metadata": {},
   "outputs": [
    {
     "name": "stdout",
     "output_type": "stream",
     "text": [
      "enter the side value : 7\n",
      "Area of a square with side value 7 is :  49\n",
      "Perimeter of a square with side value 7 is : 28\n"
     ]
    }
   ],
   "source": [
    "s = int(input(\"enter the side value : \"))\n",
    "area = s*s\n",
    "primeter = 4*s\n",
    "print(\"Area of a square with side value\",s,\"is : \",area)\n",
    "print(\"Perimeter of a square with side value\",s,\"is :\",primeter)"
   ]
  },
  {
   "cell_type": "markdown",
   "id": "eea3532d",
   "metadata": {},
   "source": [
    "## Exercise 3\n",
    "\n",
    "**Find out the *area* and *perimeter* of a  rectangle.**  \n",
    "\n",
    "To find out *area* and *perimeter* of a rectangle we need *length* and *breadth* of that rectangle  \n",
    "\n",
    "**Sample I/O**  \n",
    "\n",
    "***Input1:***  \n",
    "3<br>\n",
    "4<br>\n",
    "***Output1:***  \n",
    "Area of a rectangle with length 3 and breadth 4 is: 12  \n",
    "Perimeter of a rectangle with length 3 and breadth 4 is: 14  \n",
    "\n",
    "\n",
    "***Input2:***  \n",
    "15  \n",
    "18  \n",
    "***Output2:***  \n",
    "Area of a rectangle with length 15 and breadth 18 is: 270  \n",
    "Perimeter of a rectangle with length 15 and breadth 18 is: 66   \n"
   ]
  },
  {
   "cell_type": "code",
   "execution_count": 29,
   "id": "173ef358",
   "metadata": {},
   "outputs": [
    {
     "name": "stdout",
     "output_type": "stream",
     "text": [
      "enter the length of the rectangle15\n",
      "enter the breardth of the rectangle18\n",
      "area of the rectangle 270\n",
      "perimeter of a rectangle 66\n"
     ]
    }
   ],
   "source": [
    "a = int(input(\"enter the length of the rectangle\"))\n",
    "b = int(input(\"enter the breardth of the rectangle\"))\n",
    "area = a*b\n",
    "p = 2*(a+b)\n",
    "print(\"area of the rectangle\",area)\n",
    "print(\"perimeter of a rectangle\",p)"
   ]
  },
  {
   "cell_type": "markdown",
   "id": "6f2fffec",
   "metadata": {},
   "source": [
    "## Exercise 4\n",
    "\n",
    "**Find out the *sum of first n natural numbers.***  \n",
    "\n",
    "**Example:**  \n",
    "If n value is 5, then first 5 natural numbers are 1, 2, 3, 4, 5  \n",
    "and their sum 1 + 2 + 3 + 4 + 5 is 15.\n",
    "\n",
    "\n",
    "**Sample I/O**  \n",
    "\n",
    "***Input1:***  \n",
    "10  \n",
    "***Output1:***  \n",
    "Sum of first 10 natural numbers is: 55\n",
    "\n",
    "***Input2:***  \n",
    "223  \n",
    "***Output2:***  \n",
    "Sum of first 223 natural numbers is: 24976\n"
   ]
  },
  {
   "cell_type": "code",
   "execution_count": 35,
   "id": "35fc7d5c",
   "metadata": {},
   "outputs": [
    {
     "name": "stdout",
     "output_type": "stream",
     "text": [
      "enter the natural value15\n",
      "sum of the first  15 value is : 120\n"
     ]
    }
   ],
   "source": [
    "n = int(input(\"enter the natural value\"))\n",
    "sum = n*(n+1)//2\n",
    "print(\"sum of the first \",n,\"value is :\",sum)"
   ]
  },
  {
   "cell_type": "markdown",
   "id": "fd07a94a",
   "metadata": {},
   "source": [
    "## Exercise 5\n",
    "\n",
    "**Find out the *sum of first n EVEN natural numbers.***  \n",
    "\n",
    "**Example:**  \n",
    "If n value is 5, then first 5 even natural numbers are 2, 4, 6, 8, 10  \n",
    "and their sum 2 + 4 + 6 + 8 + 10 is 30.\n",
    "\n",
    "\n",
    "**Sample I/O**  \n",
    "\n",
    "***Input1:***  \n",
    "10  \n",
    "***Output1:***  \n",
    "Sum of first 10 even natural numbers is: 110\n",
    "\n",
    "***Input2:***  \n",
    "223  \n",
    "***Output2:***  \n",
    "Sum of first 223 even natural numbers is: 49952\n"
   ]
  },
  {
   "cell_type": "code",
   "execution_count": 37,
   "id": "ddb92332",
   "metadata": {},
   "outputs": [
    {
     "name": "stdout",
     "output_type": "stream",
     "text": [
      "enter the natural value223\n",
      "sum of the first  223 even number is : 49952\n"
     ]
    }
   ],
   "source": [
    "n = int(input(\"enter the natural value\"))\n",
    "sum = n*(n+1)\n",
    "print(\"sum of the first \",n,\"even number is :\",sum)"
   ]
  },
  {
   "cell_type": "markdown",
   "id": "dc530e79",
   "metadata": {},
   "source": [
    "## Exercise 6\n",
    "\n",
    "**Find out the *sum of first n ODD natural numbers.***  \n",
    "\n",
    "**Example:**  \n",
    "If n value is 5, then first 5 odd natural numbers are 1, 3, 5, 7, 9  \n",
    "and their sum 1 + 3 + 5 + 7 + 9 is 25.\n",
    "\n",
    "\n",
    "**Sample I/O**  \n",
    "\n",
    "***Input1:***  \n",
    "10  \n",
    "***Output1:***  \n",
    "Sum of first 10 odd natural numbers is: 100\n",
    "\n",
    "***Input2:***  \n",
    "223  \n",
    "***Output2:***  \n",
    "Sum of first 223 odd natural numbers is: 49729\n"
   ]
  },
  {
   "cell_type": "code",
   "execution_count": 43,
   "id": "60753a94",
   "metadata": {},
   "outputs": [
    {
     "name": "stdout",
     "output_type": "stream",
     "text": [
      "enter the natural value223\n",
      "sum of the first  223 odd numbers is : 49729\n"
     ]
    }
   ],
   "source": [
    "n = int(input(\"enter the natural value\"))\n",
    "sum = n**2\n",
    "print(\"sum of the first \",n,\"odd numbers is :\",sum)"
   ]
  },
  {
   "cell_type": "markdown",
   "id": "7e994123",
   "metadata": {},
   "source": [
    "## Exercise 7\n",
    "\n",
    "**Find out the *Sum of the following sums***\n",
    "- First n natural numbers\n",
    "- First n even natural numbers\n",
    "- First n odd natural numbers\n",
    "\n",
    "**Example:**  \n",
    "If n value is 5, then  \n",
    "* First 5 natural numbers are 1, 2, 3, 4, 5 and thier sum 1 + 2 + 3 + 4 + 5 is 15  \n",
    "* First 5 even natural numbers are 2, 4, 6, 8, 10 and their sum 2 + 4 + 6 + 8 + 10 is 30  \n",
    "* First 5 odd natural numbers are 1, 3, 5, 7, 9 and their sum 1 + 3 + 5 + 7 + 9 is 25\n",
    "\n",
    "Now ***the sum of above three sums 15 + 30 + 25 is: 70***\n",
    "\n",
    "\n",
    "**Sample I/O**  \n",
    "\n",
    "***Input1:***  \n",
    "10  \n",
    "***Output1:***  \n",
    "Sum of sums is: 265\n",
    "\n",
    "***Input2:***  \n",
    "223  \n",
    "***Output2:***  \n",
    "Sum of sums is: 124657\n"
   ]
  },
  {
   "cell_type": "code",
   "execution_count": 59,
   "id": "8e3b8447",
   "metadata": {},
   "outputs": [
    {
     "name": "stdout",
     "output_type": "stream",
     "text": [
      "enter the n value 223\n",
      "sum of sums is : 124657\n"
     ]
    }
   ],
   "source": [
    "n = int(input(\"enter the n value \"))\n",
    "sum = n*(n+1)//2\n",
    "even = n*(n+1)\n",
    "odd = n**2\n",
    "Sum =sum+even+odd\n",
    "print(\"sum of sums is :\",Sum)"
   ]
  },
  {
   "cell_type": "markdown",
   "id": "8d2a0bfb",
   "metadata": {},
   "source": [
    "## Exercise 8\n",
    "\n",
    "**Find out the *product of the last digits of the given four positive integers.***\n",
    "\n",
    "**Example:**  \n",
    "If four positive integers 123, 456, 789, 567 are given, then\n",
    "* Last digit of 123 --> 3\n",
    "* Last digit of 456 --> 6\n",
    "* Last digit of 789 --> 9\n",
    "* Last digit of 567 --> 7\n",
    "\n",
    "**and the product of them is 3 x 6 x 9 x 7 = 1134**\n",
    "\n",
    "**Sample I/O**  \n",
    "\n",
    "***Input1:***  \n",
    "101  \n",
    "123  \n",
    "14567  \n",
    "12  \n",
    "***Output1:***  \n",
    "Product of 1, 3, 7 and 2 is: 44\n",
    "\n",
    "***Input2:***  \n",
    "1<br>11  \n",
    "21  \n",
    "31  \n",
    "***Output2:***  \n",
    "Product of 1, 1, 1 and 1 is: 1\n"
   ]
  },
  {
   "cell_type": "code",
   "execution_count": 11,
   "id": "6c6a6f90",
   "metadata": {},
   "outputs": [
    {
     "name": "stdout",
     "output_type": "stream",
     "text": [
      "101\n",
      "123\n",
      "14567\n",
      "12\n",
      "product of 1,3,7,2 is 42\n"
     ]
    }
   ],
   "source": [
    "a = int(input())\n",
    "b = int(input())\n",
    "c = int(input())\n",
    "d = int(input())\n",
    "a1 = a%10\n",
    "b1 = b%10\n",
    "c1 = c%10\n",
    "d1 = d%10\n",
    "p = a1*b1*c1*d1\n",
    "print(f\"product of {a1},{b1},{c1},{d1} is {p}\")"
   ]
  },
  {
   "cell_type": "markdown",
   "id": "36767346",
   "metadata": {},
   "source": [
    "## Exercise 9\n",
    "\n",
    "**Find out the *SIMPLE INTEREST***  \n",
    "\n",
    "You'll be given the following values\n",
    "* Principal Amount (P)\n",
    "* Time (in years) (T)\n",
    "* Rate of interest (R)\n",
    "\n",
    "**You have to calculate the *SIMPLE INTEREST* on *P* for *T* years at *R* interest rate per annum.** \n",
    "\n",
    "**Example:**  \n",
    "if  \n",
    "**P** --> 10000  \n",
    "**T** --> 2  \n",
    "**R** --> 7.0  \n",
    "Then ***SIMPLE INTEREST IS 1400.00***\n",
    "\n",
    "**Note:** \n",
    "- You have to take R value as float because sometimes the interest rate can be in point values.\n",
    "- You also have to adjust the output to 2 decimal places after point.\n",
    "\n",
    "**Sample I/O**  \n",
    "\n",
    "***Input1:***  \n",
    "12344  \n",
    "13  \n",
    "7.9  \n",
    "***Output1:***  \n",
    "Simple Interest on an Amount of 12344 for 13 years at 7.9 percent per annum is: 12677.29\n",
    "\n",
    "***Input2:***  \n",
    "1000    \n",
    "35  \n",
    "8.3  \n",
    "***Output2:***  \n",
    "Simple Interest on an Amount of 1000 for 35 years at 8.3 percent per annum is: 2905.00\n"
   ]
  },
  {
   "cell_type": "code",
   "execution_count": 20,
   "id": "fc91229b",
   "metadata": {},
   "outputs": [
    {
     "name": "stdout",
     "output_type": "stream",
     "text": [
      "1000\n",
      "35\n",
      "8.5\n",
      "simple interest on an amount of 1000 for 35 years of 2975.00\n"
     ]
    }
   ],
   "source": [
    "# Write your code here\n",
    "p = int(input())\n",
    "t = int(input())\n",
    "r = float(input())\n",
    "si = p*t*r/100\n",
    "print(f\"simple interest on an amount of {p} for {t} years of {si:.2f}\")"
   ]
  },
  {
   "cell_type": "markdown",
   "id": "a2ceeab1",
   "metadata": {},
   "source": [
    "## Exercise 10\n",
    "\n",
    "**Find out the *area* of a circle.**  \n",
    "\n",
    "To find out *area* of a circle we should have the radius of that circle *r* with us. \n",
    "\n",
    "***Note:***  \n",
    "* You can use 3.14 as **pi($\\pi$)** value\n",
    "* Also adjust the output to 2 decimal places after point value\n",
    "\n",
    "**Sample I/O**  \n",
    "\n",
    "***Input1:***  \n",
    "5<br>***Output1:***  \n",
    "Area of a circle with radius 5 is: 78.50\n",
    "\n",
    "\n",
    "***Input2:***  \n",
    "35  \n",
    "***Output2:***  \n",
    "Area of a circle with radius 35 is: 3846.50\n"
   ]
  },
  {
   "cell_type": "code",
   "execution_count": 3,
   "id": "2f1aef75",
   "metadata": {},
   "outputs": [
    {
     "name": "stdout",
     "output_type": "stream",
     "text": [
      "enter the radius5\n",
      "area of a circle with radius 5.0is 78.50\n"
     ]
    }
   ],
   "source": [
    "# Write your code here\n",
    "r = float(input(\"enter the radius\"))\n",
    "a = 3.14*r**2\n",
    "print(f\"area of a circle with radius {r}is {a:.2f}\")"
   ]
  }
 ],
 "metadata": {
  "_draft": {
   "nbviewer_url": "https://gist.github.com/c52110472e3e131a2fa8b13a3a1f84b8"
  },
  "gist": {
   "data": {
    "description": "Exercises 1 - Programs on Formula Evaluation - Copy.ipynb",
    "public": false
   },
   "id": "c52110472e3e131a2fa8b13a3a1f84b8"
  },
  "kernelspec": {
   "display_name": "Python 3 (ipykernel)",
   "language": "python",
   "name": "python3"
  },
  "language_info": {
   "codemirror_mode": {
    "name": "ipython",
    "version": 3
   },
   "file_extension": ".py",
   "mimetype": "text/x-python",
   "name": "python",
   "nbconvert_exporter": "python",
   "pygments_lexer": "ipython3",
   "version": "3.9.12"
  },
  "latex_envs": {
   "LaTeX_envs_menu_present": true,
   "autoclose": false,
   "autocomplete": true,
   "bibliofile": "biblio.bib",
   "cite_by": "apalike",
   "current_citInitial": 1,
   "eqLabelWithNumbers": true,
   "eqNumInitial": 1,
   "hotkeys": {
    "equation": "Ctrl-E",
    "itemize": "Ctrl-I"
   },
   "labels_anchors": false,
   "latex_user_defs": false,
   "report_style_numbering": false,
   "user_envs_cfg": false
  },
  "toc": {
   "base_numbering": 1,
   "nav_menu": {},
   "number_sections": true,
   "sideBar": true,
   "skip_h1_title": false,
   "title_cell": "Table of Contents",
   "title_sidebar": "Contents",
   "toc_cell": false,
   "toc_position": {},
   "toc_section_display": true,
   "toc_window_display": false
  }
 },
 "nbformat": 4,
 "nbformat_minor": 5
}
